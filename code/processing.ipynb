{
 "cells": [
  {
   "cell_type": "markdown",
   "source": [
    "# txt转换csv"
   ],
   "metadata": {
    "collapsed": false
   }
  },
  {
   "cell_type": "code",
   "execution_count": 1,
   "metadata": {
    "collapsed": true,
    "ExecuteTime": {
     "start_time": "2023-05-20T02:20:54.453170Z",
     "end_time": "2023-05-20T02:20:54.459170Z"
    }
   },
   "outputs": [],
   "source": [
    "# import csv\n",
    "#\n",
    "# input_file = \"20230516.txt\"\n",
    "# output_file = \"20230516.csv\"\n",
    "#\n",
    "# with open(input_file, 'r') as file:\n",
    "#     lines = file.readlines()\n",
    "#\n",
    "# # 移除行尾的换行符并使用制表符分隔字段\n",
    "# lines = [line.strip().replace('\\t', ',') for line in lines]\n",
    "#\n",
    "# with open(output_file, 'w', newline='') as file:\n",
    "#     writer = csv.writer(file)\n",
    "#     for line in lines:\n",
    "#         row = line.split(',')\n",
    "#         writer.writerow(row)\n",
    "#\n",
    "# print(f\"成功将 {input_file} 转换为 {output_file} 文件。\")"
   ]
  },
  {
   "cell_type": "code",
   "execution_count": 2,
   "outputs": [],
   "source": [
    "# import csv\n",
    "#\n",
    "# # 读取CSV文件\n",
    "# with open('20230516.csv', 'r') as file:\n",
    "#     reader = csv.reader(file)\n",
    "#     data = list(reader)\n",
    "#\n",
    "# # 删除第二列\n",
    "# for row in data:\n",
    "#     del row[1]\n",
    "#\n",
    "# # 保存为新的CSV文件\n",
    "# with open('20230516.csv', 'w', newline='') as file:\n",
    "#     writer = csv.writer(file)\n",
    "#     writer.writerows(data)\n",
    "#\n",
    "# print(\"数据处理完成并保存为新的CSV文件。\")"
   ],
   "metadata": {
    "collapsed": false,
    "ExecuteTime": {
     "start_time": "2023-05-20T02:20:54.460680Z",
     "end_time": "2023-05-20T02:20:54.465216Z"
    }
   }
  },
  {
   "cell_type": "markdown",
   "source": [
    "# 数据预处理"
   ],
   "metadata": {
    "collapsed": false
   }
  },
  {
   "cell_type": "code",
   "execution_count": 3,
   "outputs": [
    {
     "data": {
      "text/plain": "           Time  LastPrice  Volume  Bid1Price  Bid1Volume  Ask1Price  \\\n0      09:30:00     6084.0      13     6082.0           1     6083.6   \n1      09:30:00     6083.2      18     6075.2           1     6081.6   \n2      09:30:01     6081.6      22     6079.4           1     6081.4   \n3      09:30:01     6081.6      28     6083.6           1     6084.0   \n4      09:30:02     6083.6      33     6080.8           1     6083.6   \n...         ...        ...     ...        ...         ...        ...   \n10015  14:02:10     6040.2    4986     6039.6           2     6040.2   \n10016  14:02:12     6040.2    4986     6039.6           2     6040.0   \n10017  14:02:13     6040.2    4986     6039.6           2     6040.0   \n10018  14:02:14     6040.2    4986     6039.2           2     6040.0   \n10019  14:02:15     6040.2    4986     6039.2           2     6039.8   \n\n       Ask1Volume  \n0               1  \n1               1  \n2               2  \n3               2  \n4               3  \n...           ...  \n10015           1  \n10016           1  \n10017           2  \n10018           2  \n10019           1  \n\n[10020 rows x 7 columns]",
      "text/html": "<div>\n<style scoped>\n    .dataframe tbody tr th:only-of-type {\n        vertical-align: middle;\n    }\n\n    .dataframe tbody tr th {\n        vertical-align: top;\n    }\n\n    .dataframe thead th {\n        text-align: right;\n    }\n</style>\n<table border=\"1\" class=\"dataframe\">\n  <thead>\n    <tr style=\"text-align: right;\">\n      <th></th>\n      <th>Time</th>\n      <th>LastPrice</th>\n      <th>Volume</th>\n      <th>Bid1Price</th>\n      <th>Bid1Volume</th>\n      <th>Ask1Price</th>\n      <th>Ask1Volume</th>\n    </tr>\n  </thead>\n  <tbody>\n    <tr>\n      <th>0</th>\n      <td>09:30:00</td>\n      <td>6084.0</td>\n      <td>13</td>\n      <td>6082.0</td>\n      <td>1</td>\n      <td>6083.6</td>\n      <td>1</td>\n    </tr>\n    <tr>\n      <th>1</th>\n      <td>09:30:00</td>\n      <td>6083.2</td>\n      <td>18</td>\n      <td>6075.2</td>\n      <td>1</td>\n      <td>6081.6</td>\n      <td>1</td>\n    </tr>\n    <tr>\n      <th>2</th>\n      <td>09:30:01</td>\n      <td>6081.6</td>\n      <td>22</td>\n      <td>6079.4</td>\n      <td>1</td>\n      <td>6081.4</td>\n      <td>2</td>\n    </tr>\n    <tr>\n      <th>3</th>\n      <td>09:30:01</td>\n      <td>6081.6</td>\n      <td>28</td>\n      <td>6083.6</td>\n      <td>1</td>\n      <td>6084.0</td>\n      <td>2</td>\n    </tr>\n    <tr>\n      <th>4</th>\n      <td>09:30:02</td>\n      <td>6083.6</td>\n      <td>33</td>\n      <td>6080.8</td>\n      <td>1</td>\n      <td>6083.6</td>\n      <td>3</td>\n    </tr>\n    <tr>\n      <th>...</th>\n      <td>...</td>\n      <td>...</td>\n      <td>...</td>\n      <td>...</td>\n      <td>...</td>\n      <td>...</td>\n      <td>...</td>\n    </tr>\n    <tr>\n      <th>10015</th>\n      <td>14:02:10</td>\n      <td>6040.2</td>\n      <td>4986</td>\n      <td>6039.6</td>\n      <td>2</td>\n      <td>6040.2</td>\n      <td>1</td>\n    </tr>\n    <tr>\n      <th>10016</th>\n      <td>14:02:12</td>\n      <td>6040.2</td>\n      <td>4986</td>\n      <td>6039.6</td>\n      <td>2</td>\n      <td>6040.0</td>\n      <td>1</td>\n    </tr>\n    <tr>\n      <th>10017</th>\n      <td>14:02:13</td>\n      <td>6040.2</td>\n      <td>4986</td>\n      <td>6039.6</td>\n      <td>2</td>\n      <td>6040.0</td>\n      <td>2</td>\n    </tr>\n    <tr>\n      <th>10018</th>\n      <td>14:02:14</td>\n      <td>6040.2</td>\n      <td>4986</td>\n      <td>6039.2</td>\n      <td>2</td>\n      <td>6040.0</td>\n      <td>2</td>\n    </tr>\n    <tr>\n      <th>10019</th>\n      <td>14:02:15</td>\n      <td>6040.2</td>\n      <td>4986</td>\n      <td>6039.2</td>\n      <td>2</td>\n      <td>6039.8</td>\n      <td>1</td>\n    </tr>\n  </tbody>\n</table>\n<p>10020 rows × 7 columns</p>\n</div>"
     },
     "execution_count": 3,
     "metadata": {},
     "output_type": "execute_result"
    }
   ],
   "source": [
    "import pandas as pd\n",
    "\n",
    "input_file = \"20230516.csv\"\n",
    "\n",
    "# 读取CSV文件并将其转换为DataFrame\n",
    "raw_data = pd.read_csv(input_file, header=None)\n",
    "\n",
    "# 添加列名\n",
    "column_names = ['Time', 'LastPrice', 'Volume', 'Bid1Price', 'Bid1Volume', 'Ask1Price', 'Ask1Volume']\n",
    "raw_data.columns = column_names\n",
    "\n",
    "# 打印DataFrame\n",
    "raw_data"
   ],
   "metadata": {
    "collapsed": false,
    "ExecuteTime": {
     "start_time": "2023-05-20T02:20:54.467215Z",
     "end_time": "2023-05-20T02:20:54.507898Z"
    }
   }
  },
  {
   "cell_type": "markdown",
   "source": [
    "# 可视化"
   ],
   "metadata": {
    "collapsed": false
   }
  },
  {
   "cell_type": "code",
   "execution_count": 4,
   "outputs": [],
   "source": [
    "# import pandas as pd\n",
    "# import matplotlib.pyplot as plt\n",
    "#\n",
    "# # 创建DataFrame\n",
    "# column_names = ['Time', 'LastPrice', 'Volume', 'Bid1Price', 'Bid1Volume', 'Ask1Price', 'Ask1Volume']\n",
    "# raw_data = pd.read_csv('20230516.csv', names=column_names)\n",
    "#\n",
    "# # 可视化Bid和Ask的价格\n",
    "# plt.plot(raw_data['Time'], raw_data['Bid1.Price'], label='Bid1 Price')\n",
    "# plt.plot(raw_data['Time'], raw_data['Ask1.Price'], label='Ask1 Price')\n",
    "#\n",
    "# # 设置图表标题和标签\n",
    "# plt.title('Bid and Ask Prices')\n",
    "# plt.xlabel('Time')\n",
    "# plt.ylabel('Price')\n",
    "# plt.legend()\n",
    "#\n",
    "# # 显示图表\n",
    "# plt.show()"
   ],
   "metadata": {
    "collapsed": false,
    "ExecuteTime": {
     "start_time": "2023-05-20T02:20:54.505898Z",
     "end_time": "2023-05-20T02:20:54.508907Z"
    }
   }
  },
  {
   "cell_type": "code",
   "execution_count": 5,
   "outputs": [
    {
     "data": {
      "text/plain": "                     Bid1Price  Ask1Price  Bid1Volume  Ask1Volume  LastPrice  \\\nTime                                                                           \n2023-05-20 09:30:00     6082.0     6081.6         1.0         1.0     6083.6   \n2023-05-20 09:30:01     6083.6     6081.4         1.0         2.0     6081.6   \n2023-05-20 09:30:02     6081.4     6083.6         1.0         3.0     6083.6   \n2023-05-20 09:30:03     6083.6     6083.6         6.0         1.0     6082.6   \n2023-05-20 09:30:04     6084.0     6085.0         2.0         3.0     6084.6   \n...                        ...        ...         ...         ...        ...   \n2023-05-20 14:02:11        NaN        NaN         NaN         NaN        NaN   \n2023-05-20 14:02:12     6039.6     6040.0         2.0         1.0     6040.2   \n2023-05-20 14:02:13     6039.6     6040.0         2.0         2.0     6040.2   \n2023-05-20 14:02:14     6039.2     6040.0         2.0         2.0     6040.2   \n2023-05-20 14:02:15     6039.2     6039.8         2.0         1.0     6040.2   \n\n                     Volume  \nTime                         \n2023-05-20 09:30:00    18.0  \n2023-05-20 09:30:01    28.0  \n2023-05-20 09:30:02    33.0  \n2023-05-20 09:30:03    41.0  \n2023-05-20 09:30:04    43.0  \n...                     ...  \n2023-05-20 14:02:11     NaN  \n2023-05-20 14:02:12  4986.0  \n2023-05-20 14:02:13  4986.0  \n2023-05-20 14:02:14  4986.0  \n2023-05-20 14:02:15  4986.0  \n\n[16336 rows x 6 columns]",
      "text/html": "<div>\n<style scoped>\n    .dataframe tbody tr th:only-of-type {\n        vertical-align: middle;\n    }\n\n    .dataframe tbody tr th {\n        vertical-align: top;\n    }\n\n    .dataframe thead th {\n        text-align: right;\n    }\n</style>\n<table border=\"1\" class=\"dataframe\">\n  <thead>\n    <tr style=\"text-align: right;\">\n      <th></th>\n      <th>Bid1Price</th>\n      <th>Ask1Price</th>\n      <th>Bid1Volume</th>\n      <th>Ask1Volume</th>\n      <th>LastPrice</th>\n      <th>Volume</th>\n    </tr>\n    <tr>\n      <th>Time</th>\n      <th></th>\n      <th></th>\n      <th></th>\n      <th></th>\n      <th></th>\n      <th></th>\n    </tr>\n  </thead>\n  <tbody>\n    <tr>\n      <th>2023-05-20 09:30:00</th>\n      <td>6082.0</td>\n      <td>6081.6</td>\n      <td>1.0</td>\n      <td>1.0</td>\n      <td>6083.6</td>\n      <td>18.0</td>\n    </tr>\n    <tr>\n      <th>2023-05-20 09:30:01</th>\n      <td>6083.6</td>\n      <td>6081.4</td>\n      <td>1.0</td>\n      <td>2.0</td>\n      <td>6081.6</td>\n      <td>28.0</td>\n    </tr>\n    <tr>\n      <th>2023-05-20 09:30:02</th>\n      <td>6081.4</td>\n      <td>6083.6</td>\n      <td>1.0</td>\n      <td>3.0</td>\n      <td>6083.6</td>\n      <td>33.0</td>\n    </tr>\n    <tr>\n      <th>2023-05-20 09:30:03</th>\n      <td>6083.6</td>\n      <td>6083.6</td>\n      <td>6.0</td>\n      <td>1.0</td>\n      <td>6082.6</td>\n      <td>41.0</td>\n    </tr>\n    <tr>\n      <th>2023-05-20 09:30:04</th>\n      <td>6084.0</td>\n      <td>6085.0</td>\n      <td>2.0</td>\n      <td>3.0</td>\n      <td>6084.6</td>\n      <td>43.0</td>\n    </tr>\n    <tr>\n      <th>...</th>\n      <td>...</td>\n      <td>...</td>\n      <td>...</td>\n      <td>...</td>\n      <td>...</td>\n      <td>...</td>\n    </tr>\n    <tr>\n      <th>2023-05-20 14:02:11</th>\n      <td>NaN</td>\n      <td>NaN</td>\n      <td>NaN</td>\n      <td>NaN</td>\n      <td>NaN</td>\n      <td>NaN</td>\n    </tr>\n    <tr>\n      <th>2023-05-20 14:02:12</th>\n      <td>6039.6</td>\n      <td>6040.0</td>\n      <td>2.0</td>\n      <td>1.0</td>\n      <td>6040.2</td>\n      <td>4986.0</td>\n    </tr>\n    <tr>\n      <th>2023-05-20 14:02:13</th>\n      <td>6039.6</td>\n      <td>6040.0</td>\n      <td>2.0</td>\n      <td>2.0</td>\n      <td>6040.2</td>\n      <td>4986.0</td>\n    </tr>\n    <tr>\n      <th>2023-05-20 14:02:14</th>\n      <td>6039.2</td>\n      <td>6040.0</td>\n      <td>2.0</td>\n      <td>2.0</td>\n      <td>6040.2</td>\n      <td>4986.0</td>\n    </tr>\n    <tr>\n      <th>2023-05-20 14:02:15</th>\n      <td>6039.2</td>\n      <td>6039.8</td>\n      <td>2.0</td>\n      <td>1.0</td>\n      <td>6040.2</td>\n      <td>4986.0</td>\n    </tr>\n  </tbody>\n</table>\n<p>16336 rows × 6 columns</p>\n</div>"
     },
     "execution_count": 5,
     "metadata": {},
     "output_type": "execute_result"
    }
   ],
   "source": [
    "import pandas as pd\n",
    "\n",
    "# 假设您的数据存储在一个名为df的DataFrame中\n",
    "df = pd.DataFrame(raw_data, columns=column_names)\n",
    "\n",
    "# 将Time列转换为时间格式\n",
    "df['Time'] = pd.to_datetime(df['Time'])\n",
    "\n",
    "# 设置Time列为索引\n",
    "df.set_index('Time', inplace=True)\n",
    "\n",
    "# 按秒进行重采样，并计算最大Bid1.Price，最小Ask1.Price，最大Bid1.Volume，最大Ask1.Volume和平均Last.Price\n",
    "resampled_df = df.resample('S').agg({'Bid1Price': 'max',\n",
    "                                    'Ask1Price': 'min',\n",
    "                                    'Bid1Volume': 'max',\n",
    "                                    'Ask1Volume': 'max',\n",
    "                                    'LastPrice': 'mean'})\n",
    "\n",
    "# 保留每秒的Volume列\n",
    "resampled_df['Volume'] = df.resample('S')['Volume'].last()\n",
    "\n",
    "# 打印转换后的数据\n",
    "resampled_df"
   ],
   "metadata": {
    "collapsed": false,
    "ExecuteTime": {
     "start_time": "2023-05-20T02:20:54.512224Z",
     "end_time": "2023-05-20T02:20:54.744056Z"
    }
   }
  },
  {
   "cell_type": "code",
   "execution_count": 6,
   "outputs": [],
   "source": [
    "# 获取df前9000行数据\n",
    "df = df.fillna(method='ffill')\n",
    "\n",
    "# 储存到新文件夹process_data\n",
    "df.to_csv('process_data/20230516.csv')"
   ],
   "metadata": {
    "collapsed": false,
    "ExecuteTime": {
     "start_time": "2023-05-20T02:20:54.746061Z",
     "end_time": "2023-05-20T02:20:54.826160Z"
    }
   }
  },
  {
   "cell_type": "markdown",
   "source": [
    "# 建模"
   ],
   "metadata": {
    "collapsed": false
   }
  },
  {
   "cell_type": "code",
   "execution_count": 7,
   "outputs": [],
   "source": [
    "# import numpy as np\n",
    "# import pandas as pd\n",
    "# from sklearn.preprocessing import MinMaxScaler\n",
    "# from tensorflow.keras.models import Sequential\n",
    "# from tensorflow.keras.layers import LSTM, Dense\n",
    "#\n",
    "# # 假设您的数据已经存储在一个名为df的DataFrame中，包含了Time, Ask1.Price, Bid1.Price, Volume等列\n",
    "#\n",
    "# # 提取需要预测的列作为目标变量\n",
    "# target_cols = ['Last.Price']\n",
    "# target_data = df[target_cols].values\n",
    "# print(target_data)\n",
    "#\n",
    "# # 归一化处理\n",
    "# scaler = MinMaxScaler()\n",
    "# scaled_data = scaler.fit_transform(target_data)\n",
    "#\n",
    "# # 构建训练集和测试集\n",
    "# train_ratio = 0.8  # 训练集占总数据的比例\n",
    "# train_size = int(len(scaled_data) * train_ratio)\n",
    "#\n",
    "# train_data = scaled_data[:train_size]\n",
    "# test_data = scaled_data[train_size:]\n",
    "#\n",
    "# # 定义函数，将时间序列数据转换为适用于LSTM的输入数据格式\n",
    "# def create_sequences(data, seq_length):\n",
    "#     x = []\n",
    "#     y = []\n",
    "#     for i in range(len(data) - seq_length):\n",
    "#         x.append(data[i:i+seq_length])\n",
    "#         y.append(data[i+seq_length])\n",
    "#     return np.array(x), np.array(y)\n",
    "#\n",
    "# # 定义序列长度\n",
    "# sequence_length = 300  # 可根据实际情况调整\n",
    "#\n",
    "# # 创建训练集和测试集的序列数据\n",
    "# x_train, y_train = create_sequences(train_data, sequence_length)\n",
    "# x_test, y_test = create_sequences(test_data, sequence_length)\n",
    "#\n",
    "# # 构建LSTM模型\n",
    "# model = Sequential()\n",
    "# model.add(LSTM(64, input_shape=(sequence_length, len(target_cols))))\n",
    "# model.add(Dense(len(target_cols)))\n",
    "# model.compile(loss='mse', optimizer='adam')\n",
    "#\n",
    "# # 训练模型\n",
    "# model.fit(x_train, y_train, epochs=5, batch_size=32)\n",
    "#\n",
    "# # 在测试集上进行预测\n",
    "# predictions = model.predict(x_test)\n",
    "#\n",
    "# # 将预测结果逆归一化\n",
    "# predictions = scaler.inverse_transform(predictions)\n",
    "#\n",
    "# # 打印预测结果\n",
    "# predicted_data = pd.DataFrame(predictions, columns=target_cols)\n",
    "# print(predicted_data)\n"
   ],
   "metadata": {
    "collapsed": false,
    "ExecuteTime": {
     "start_time": "2023-05-20T02:20:54.792047Z",
     "end_time": "2023-05-20T02:20:54.848781Z"
    }
   }
  },
  {
   "cell_type": "code",
   "execution_count": 8,
   "outputs": [
    {
     "data": {
      "text/plain": "                     LastPrice  Volume  Bid1Price  Bid1Volume  Ask1Price  \\\nTime                                                                       \n2023-05-20 09:30:00     6084.0      13     6082.0           1     6083.6   \n2023-05-20 09:30:00     6083.2      18     6075.2           1     6081.6   \n2023-05-20 09:30:01     6081.6      22     6079.4           1     6081.4   \n2023-05-20 09:30:01     6081.6      28     6083.6           1     6084.0   \n2023-05-20 09:30:02     6083.6      33     6080.8           1     6083.6   \n...                        ...     ...        ...         ...        ...   \n2023-05-20 14:02:10     6040.2    4986     6039.6           2     6040.2   \n2023-05-20 14:02:12     6040.2    4986     6039.6           2     6040.0   \n2023-05-20 14:02:13     6040.2    4986     6039.6           2     6040.0   \n2023-05-20 14:02:14     6040.2    4986     6039.2           2     6040.0   \n2023-05-20 14:02:15     6040.2    4986     6039.2           2     6039.8   \n\n                     Ask1Volume  \nTime                             \n2023-05-20 09:30:00           1  \n2023-05-20 09:30:00           1  \n2023-05-20 09:30:01           2  \n2023-05-20 09:30:01           2  \n2023-05-20 09:30:02           3  \n...                         ...  \n2023-05-20 14:02:10           1  \n2023-05-20 14:02:12           1  \n2023-05-20 14:02:13           2  \n2023-05-20 14:02:14           2  \n2023-05-20 14:02:15           1  \n\n[10020 rows x 6 columns]",
      "text/html": "<div>\n<style scoped>\n    .dataframe tbody tr th:only-of-type {\n        vertical-align: middle;\n    }\n\n    .dataframe tbody tr th {\n        vertical-align: top;\n    }\n\n    .dataframe thead th {\n        text-align: right;\n    }\n</style>\n<table border=\"1\" class=\"dataframe\">\n  <thead>\n    <tr style=\"text-align: right;\">\n      <th></th>\n      <th>LastPrice</th>\n      <th>Volume</th>\n      <th>Bid1Price</th>\n      <th>Bid1Volume</th>\n      <th>Ask1Price</th>\n      <th>Ask1Volume</th>\n    </tr>\n    <tr>\n      <th>Time</th>\n      <th></th>\n      <th></th>\n      <th></th>\n      <th></th>\n      <th></th>\n      <th></th>\n    </tr>\n  </thead>\n  <tbody>\n    <tr>\n      <th>2023-05-20 09:30:00</th>\n      <td>6084.0</td>\n      <td>13</td>\n      <td>6082.0</td>\n      <td>1</td>\n      <td>6083.6</td>\n      <td>1</td>\n    </tr>\n    <tr>\n      <th>2023-05-20 09:30:00</th>\n      <td>6083.2</td>\n      <td>18</td>\n      <td>6075.2</td>\n      <td>1</td>\n      <td>6081.6</td>\n      <td>1</td>\n    </tr>\n    <tr>\n      <th>2023-05-20 09:30:01</th>\n      <td>6081.6</td>\n      <td>22</td>\n      <td>6079.4</td>\n      <td>1</td>\n      <td>6081.4</td>\n      <td>2</td>\n    </tr>\n    <tr>\n      <th>2023-05-20 09:30:01</th>\n      <td>6081.6</td>\n      <td>28</td>\n      <td>6083.6</td>\n      <td>1</td>\n      <td>6084.0</td>\n      <td>2</td>\n    </tr>\n    <tr>\n      <th>2023-05-20 09:30:02</th>\n      <td>6083.6</td>\n      <td>33</td>\n      <td>6080.8</td>\n      <td>1</td>\n      <td>6083.6</td>\n      <td>3</td>\n    </tr>\n    <tr>\n      <th>...</th>\n      <td>...</td>\n      <td>...</td>\n      <td>...</td>\n      <td>...</td>\n      <td>...</td>\n      <td>...</td>\n    </tr>\n    <tr>\n      <th>2023-05-20 14:02:10</th>\n      <td>6040.2</td>\n      <td>4986</td>\n      <td>6039.6</td>\n      <td>2</td>\n      <td>6040.2</td>\n      <td>1</td>\n    </tr>\n    <tr>\n      <th>2023-05-20 14:02:12</th>\n      <td>6040.2</td>\n      <td>4986</td>\n      <td>6039.6</td>\n      <td>2</td>\n      <td>6040.0</td>\n      <td>1</td>\n    </tr>\n    <tr>\n      <th>2023-05-20 14:02:13</th>\n      <td>6040.2</td>\n      <td>4986</td>\n      <td>6039.6</td>\n      <td>2</td>\n      <td>6040.0</td>\n      <td>2</td>\n    </tr>\n    <tr>\n      <th>2023-05-20 14:02:14</th>\n      <td>6040.2</td>\n      <td>4986</td>\n      <td>6039.2</td>\n      <td>2</td>\n      <td>6040.0</td>\n      <td>2</td>\n    </tr>\n    <tr>\n      <th>2023-05-20 14:02:15</th>\n      <td>6040.2</td>\n      <td>4986</td>\n      <td>6039.2</td>\n      <td>2</td>\n      <td>6039.8</td>\n      <td>1</td>\n    </tr>\n  </tbody>\n</table>\n<p>10020 rows × 6 columns</p>\n</div>"
     },
     "execution_count": 8,
     "metadata": {},
     "output_type": "execute_result"
    }
   ],
   "source": [
    "df"
   ],
   "metadata": {
    "collapsed": false,
    "ExecuteTime": {
     "start_time": "2023-05-20T02:20:54.798058Z",
     "end_time": "2023-05-20T02:20:54.885121Z"
    }
   }
  },
  {
   "cell_type": "code",
   "execution_count": 9,
   "outputs": [
    {
     "data": {
      "text/plain": "                     LastPrice  Volume  Bid1Price  Bid1Volume  Ask1Price  \\\nTime                                                                       \n2023-05-20 09:30:00     6084.0      13     6082.0           1     6083.6   \n2023-05-20 09:30:00     6083.2      18     6075.2           1     6081.6   \n2023-05-20 09:30:01     6081.6      22     6079.4           1     6081.4   \n2023-05-20 09:30:01     6081.6      28     6083.6           1     6084.0   \n2023-05-20 09:30:02     6083.6      33     6080.8           1     6083.6   \n...                        ...     ...        ...         ...        ...   \n2023-05-20 14:02:10     6040.2    4986     6039.6           2     6040.2   \n2023-05-20 14:02:12     6040.2    4986     6039.6           2     6040.0   \n2023-05-20 14:02:13     6040.2    4986     6039.6           2     6040.0   \n2023-05-20 14:02:14     6040.2    4986     6039.2           2     6040.0   \n2023-05-20 14:02:15     6040.2    4986     6039.2           2     6039.8   \n\n                     Ask1Volume  FutureAvgPrice  Traded  \nTime                                                     \n2023-05-20 09:30:00           1         6083.26       0  \n2023-05-20 09:30:00           1         6083.44       1  \n2023-05-20 09:30:01           2         6083.78       1  \n2023-05-20 09:30:01           2         6083.98       1  \n2023-05-20 09:30:02           3         6083.98       1  \n...                         ...             ...     ...  \n2023-05-20 14:02:10           1             NaN       0  \n2023-05-20 14:02:12           1             NaN       0  \n2023-05-20 14:02:13           2             NaN       0  \n2023-05-20 14:02:14           2             NaN       0  \n2023-05-20 14:02:15           1             NaN       0  \n\n[10020 rows x 8 columns]",
      "text/html": "<div>\n<style scoped>\n    .dataframe tbody tr th:only-of-type {\n        vertical-align: middle;\n    }\n\n    .dataframe tbody tr th {\n        vertical-align: top;\n    }\n\n    .dataframe thead th {\n        text-align: right;\n    }\n</style>\n<table border=\"1\" class=\"dataframe\">\n  <thead>\n    <tr style=\"text-align: right;\">\n      <th></th>\n      <th>LastPrice</th>\n      <th>Volume</th>\n      <th>Bid1Price</th>\n      <th>Bid1Volume</th>\n      <th>Ask1Price</th>\n      <th>Ask1Volume</th>\n      <th>FutureAvgPrice</th>\n      <th>Traded</th>\n    </tr>\n    <tr>\n      <th>Time</th>\n      <th></th>\n      <th></th>\n      <th></th>\n      <th></th>\n      <th></th>\n      <th></th>\n      <th></th>\n      <th></th>\n    </tr>\n  </thead>\n  <tbody>\n    <tr>\n      <th>2023-05-20 09:30:00</th>\n      <td>6084.0</td>\n      <td>13</td>\n      <td>6082.0</td>\n      <td>1</td>\n      <td>6083.6</td>\n      <td>1</td>\n      <td>6083.26</td>\n      <td>0</td>\n    </tr>\n    <tr>\n      <th>2023-05-20 09:30:00</th>\n      <td>6083.2</td>\n      <td>18</td>\n      <td>6075.2</td>\n      <td>1</td>\n      <td>6081.6</td>\n      <td>1</td>\n      <td>6083.44</td>\n      <td>1</td>\n    </tr>\n    <tr>\n      <th>2023-05-20 09:30:01</th>\n      <td>6081.6</td>\n      <td>22</td>\n      <td>6079.4</td>\n      <td>1</td>\n      <td>6081.4</td>\n      <td>2</td>\n      <td>6083.78</td>\n      <td>1</td>\n    </tr>\n    <tr>\n      <th>2023-05-20 09:30:01</th>\n      <td>6081.6</td>\n      <td>28</td>\n      <td>6083.6</td>\n      <td>1</td>\n      <td>6084.0</td>\n      <td>2</td>\n      <td>6083.98</td>\n      <td>1</td>\n    </tr>\n    <tr>\n      <th>2023-05-20 09:30:02</th>\n      <td>6083.6</td>\n      <td>33</td>\n      <td>6080.8</td>\n      <td>1</td>\n      <td>6083.6</td>\n      <td>3</td>\n      <td>6083.98</td>\n      <td>1</td>\n    </tr>\n    <tr>\n      <th>...</th>\n      <td>...</td>\n      <td>...</td>\n      <td>...</td>\n      <td>...</td>\n      <td>...</td>\n      <td>...</td>\n      <td>...</td>\n      <td>...</td>\n    </tr>\n    <tr>\n      <th>2023-05-20 14:02:10</th>\n      <td>6040.2</td>\n      <td>4986</td>\n      <td>6039.6</td>\n      <td>2</td>\n      <td>6040.2</td>\n      <td>1</td>\n      <td>NaN</td>\n      <td>0</td>\n    </tr>\n    <tr>\n      <th>2023-05-20 14:02:12</th>\n      <td>6040.2</td>\n      <td>4986</td>\n      <td>6039.6</td>\n      <td>2</td>\n      <td>6040.0</td>\n      <td>1</td>\n      <td>NaN</td>\n      <td>0</td>\n    </tr>\n    <tr>\n      <th>2023-05-20 14:02:13</th>\n      <td>6040.2</td>\n      <td>4986</td>\n      <td>6039.6</td>\n      <td>2</td>\n      <td>6040.0</td>\n      <td>2</td>\n      <td>NaN</td>\n      <td>0</td>\n    </tr>\n    <tr>\n      <th>2023-05-20 14:02:14</th>\n      <td>6040.2</td>\n      <td>4986</td>\n      <td>6039.2</td>\n      <td>2</td>\n      <td>6040.0</td>\n      <td>2</td>\n      <td>NaN</td>\n      <td>0</td>\n    </tr>\n    <tr>\n      <th>2023-05-20 14:02:15</th>\n      <td>6040.2</td>\n      <td>4986</td>\n      <td>6039.2</td>\n      <td>2</td>\n      <td>6039.8</td>\n      <td>1</td>\n      <td>NaN</td>\n      <td>0</td>\n    </tr>\n  </tbody>\n</table>\n<p>10020 rows × 8 columns</p>\n</div>"
     },
     "execution_count": 9,
     "metadata": {},
     "output_type": "execute_result"
    }
   ],
   "source": [
    "import pandas as pd\n",
    "\n",
    "# 假设您的数据存储在一个名为 df 的 DataFrame 中\n",
    "trade_df = df\n",
    "# 计算未来 10 秒的平均价格\n",
    "trade_df['FutureAvgPrice'] = trade_df['LastPrice'].rolling(window=10).mean().shift(-10)\n",
    "\n",
    "# 根据策略生成交易信号\n",
    "trade_df['Traded'] = (trade_df['FutureAvgPrice'] > df['LastPrice']).astype(int)\n",
    "\n",
    "# 打印更新后的数据集\n",
    "trade_df"
   ],
   "metadata": {
    "collapsed": false,
    "ExecuteTime": {
     "start_time": "2023-05-20T02:20:54.813523Z",
     "end_time": "2023-05-20T02:20:54.886125Z"
    }
   }
  },
  {
   "cell_type": "code",
   "execution_count": 10,
   "outputs": [
    {
     "data": {
      "text/plain": "0    6145\n1    3875\nName: Traded, dtype: int64"
     },
     "execution_count": 10,
     "metadata": {},
     "output_type": "execute_result"
    }
   ],
   "source": [
    "# 计算Traded0和1的数量\n",
    "trade_df['Traded'].value_counts()"
   ],
   "metadata": {
    "collapsed": false,
    "ExecuteTime": {
     "start_time": "2023-05-20T02:20:54.833254Z",
     "end_time": "2023-05-20T02:20:54.886125Z"
    }
   }
  },
  {
   "cell_type": "code",
   "execution_count": 11,
   "outputs": [],
   "source": [
    "# 储存到新文件夹process_data\n",
    "# df.to_csv('process_data/20230516_labeled.csv')"
   ],
   "metadata": {
    "collapsed": false,
    "ExecuteTime": {
     "start_time": "2023-05-20T02:20:54.842777Z",
     "end_time": "2023-05-20T02:20:54.886125Z"
    }
   }
  },
  {
   "cell_type": "code",
   "execution_count": 42,
   "outputs": [
    {
     "data": {
      "text/plain": "<Figure size 800x400 with 1 Axes>",
      "image/png": "[encoded data removed]"
     },
     "metadata": {},
     "output_type": "display_data"
    }
   ],
   "source": [
    "import matplotlib.pyplot as plt\n",
    "plot_df = trade_df[2000:2120]\n",
    "size = 12\n",
    "# 创建画布和坐标\n",
    "fig, ax = plt.subplots()\n",
    "# 绘制红色的LastPrice（当Traded为1时）\n",
    "\n",
    "ax.scatter(plot_df.index[plot_df['Traded'] == 1], plot_df['LastPrice'][plot_df['Traded'] == 1], color='red', label='Traded=1',s=size)\n",
    "\n",
    "# 绘制蓝色的LastPrice（当Traded为0时）\n",
    "ax.scatter(plot_df.index[plot_df['Traded'] == 0], plot_df['LastPrice'][plot_df['Traded'] == 0], color='blue', label='Traded=0',s=size)\n",
    "\n",
    "# 设置标题和坐标轴标签\n",
    "ax.set_title('LastPrice labeled by Traded')\n",
    "ax.set_xlabel('Time')\n",
    "ax.set_ylabel('LastPrice')\n",
    "# 添加图例\n",
    "ax.legend()\n",
    "# 设置画布大小，使其横向更长\n",
    "fig.set_size_inches(8, 4)  # 可根据需要调整宽度和高度\n",
    "# 显示图形\n",
    "plt.show()"
   ],
   "metadata": {
    "collapsed": false,
    "ExecuteTime": {
     "start_time": "2023-05-20T02:33:39.061963Z",
     "end_time": "2023-05-20T02:33:39.274796Z"
    }
   }
  },
  {
   "cell_type": "markdown",
   "source": [],
   "metadata": {
    "collapsed": false
   }
  },
  {
   "cell_type": "markdown",
   "source": [
    "# 策略"
   ],
   "metadata": {
    "collapsed": false
   }
  },
  {
   "cell_type": "code",
   "execution_count": 13,
   "outputs": [],
   "source": [
    "# import pandas as pd\n",
    "#\n",
    "# # 假设您的数据存储在一个名为trade_df的DataFrame中\n",
    "# trade_df = pd.DataFrame(trade_df, columns=['LastPrice', 'Volume', 'Bid1Price', 'Bid1Volume', 'Ask1Price', 'Ask1Volume', 'Traded'])\n",
    "#\n",
    "# # 创建新的整数列作为索引\n",
    "# trade_df['Index'] = range(len(trade_df))\n",
    "# trade_df.set_index('Index', inplace=True)\n",
    "#\n",
    "# # 初始化初始资金和持仓标志位\n",
    "# initial_capital = 100000  # 初始资金\n",
    "# position = None  # 当前持仓状态，None表示初始状态，\"全仓\"表示全仓状态，\"空仓\"表示空仓状态\n",
    "#\n",
    "# # 初始化交易盈利\n",
    "# profit = 0\n",
    "#\n",
    "# # 遍历每一行的数据\n",
    "# for i in range(len(trade_df)-10):\n",
    "#     current_price = trade_df.loc[i, 'LastPrice']\n",
    "#     next_prices = trade_df.loc[i+1:i+10, 'LastPrice']\n",
    "#     traded = trade_df.loc[i, 'Traded']\n",
    "#\n",
    "#     # 判断未来10秒的价格是否均高于当前价格\n",
    "#     if (next_prices > current_price).all() and traded == 1:\n",
    "#         # 全仓买入\n",
    "#         profit -= initial_capital\n",
    "#         position = \"全仓\"\n",
    "#         print(\"Buy at \", current_price[i])\n",
    "#\n",
    "#     elif (next_prices <= current_price).any() and traded == 0:\n",
    "#         # 空仓卖出\n",
    "#         profit += initial_capital\n",
    "#         position = \"空仓\"\n",
    "#         print(\"Sell at \", i)\n",
    "#\n",
    "#     else:\n",
    "#         print(\"Hold at \", i)\n",
    "#\n",
    "# # 计算最终余额\n",
    "# final_balance = initial_capital + profit\n",
    "#\n",
    "# # 打印最终结果\n",
    "# print(\"Initial Capital: \", initial_capital)\n",
    "# print(\"Final Balance: \", final_balance)\n",
    "# print(\"Profit: \", profit)\n"
   ],
   "metadata": {
    "collapsed": false,
    "ExecuteTime": {
     "start_time": "2023-05-20T02:20:55.171206Z",
     "end_time": "2023-05-20T02:20:55.192372Z"
    }
   }
  },
  {
   "cell_type": "code",
   "execution_count": 14,
   "outputs": [],
   "source": [
    "# trade_df = df\n",
    "# # 假设您的数据存储在一个名为trade_df的DataFrame中\n",
    "# trade_df = pd.DataFrame(trade_df, columns=['LastPrice', 'Volume', 'Bid1Price', 'Bid1Volume', 'Ask1Price', 'Ask1Volume', 'Traded'])\n",
    "#\n",
    "# # 创建新的整数列作为索引\n",
    "# trade_df['Index'] = range(len(trade_df))\n",
    "# trade_df.set_index('Index', inplace=True)\n",
    "#\n",
    "# import pandas as pd\n",
    "#\n",
    "# # 创建DataFrame\n",
    "# data = trade_df\n",
    "#\n",
    "# df = pd.DataFrame(data)\n",
    "#\n",
    "# # 全仓买入或卖出\n",
    "# position = 0  # 0代表空仓，1代表持仓\n",
    "# buy_price = 0.0\n",
    "# sell_price = 0.0\n",
    "#\n",
    "# for i in range(len(df)):\n",
    "#     current_price = df.loc[i, 'LastPrice']\n",
    "#     future_prices = df.loc[i+1:i+10, 'LastPrice']\n",
    "#\n",
    "#     if position == 0 and all(future_price < current_price for future_price in future_prices):\n",
    "#         # 未来10秒的价格都低于当前价格，进行全仓买入\n",
    "#         position = 1\n",
    "#         buy_price = current_price\n",
    "#         print(f\"买入价格: {buy_price}\")\n",
    "#     elif position == 1 and all(future_price > current_price for future_price in future_prices):\n",
    "#         # 未来10秒的价格都高于当前价格，进行全仓卖出\n",
    "#         position = 0\n",
    "#         sell_price = current_price\n",
    "#         print(f\"卖出价格: {sell_price}\")\n",
    "#\n",
    "# if position == 1:\n",
    "#     # 如果最后仍持仓，则按当前价格卖出\n",
    "#     sell_price = current_price\n",
    "#     print(f\"卖出价格: {sell_price}\")\n",
    "#\n",
    "# profit = sell_price - buy_price\n",
    "# print(f\"盈利: {profit}\")\n"
   ],
   "metadata": {
    "collapsed": false,
    "ExecuteTime": {
     "start_time": "2023-05-20T02:20:55.177218Z",
     "end_time": "2023-05-20T02:20:55.192372Z"
    }
   }
  },
  {
   "cell_type": "markdown",
   "source": [
    "# 合并数据"
   ],
   "metadata": {
    "collapsed": false
   }
  },
  {
   "cell_type": "code",
   "execution_count": 15,
   "outputs": [],
   "source": [
    "import pandas as pd\n",
    "\n",
    "text = 'process_data/20230516_labeled.csv'\n",
    "# 读取数据\n",
    "data = pd.read_csv(text)\n",
    "\n",
    "# 将数据中的日期转换为datetime对象\n",
    "data['Time'] = pd.to_datetime(data['Time'])\n",
    "\n",
    "# 将日期替换为5月8日\n",
    "data['Time'] = data['Time'].apply(lambda x: x.replace(month=5, day=16))\n",
    "\n",
    "data\n",
    "# 保存修改后的数据到源文件\n",
    "data.to_csv(text, index=False)"
   ],
   "metadata": {
    "collapsed": false,
    "ExecuteTime": {
     "start_time": "2023-05-20T02:20:55.184916Z",
     "end_time": "2023-05-20T02:20:55.407406Z"
    }
   }
  },
  {
   "cell_type": "code",
   "execution_count": 16,
   "outputs": [],
   "source": [
    "import pandas as pd\n",
    "\n",
    "# 要合并的文件列表\n",
    "file_list = ['process_data/20230508_labeled.csv', 'process_data/20230510_labeled.csv', 'process_data/20230511_labeled.csv', 'process_data/20230512_labeled.csv', 'process_data/20230515_labeled.csv']\n",
    "\n",
    "# 创建一个空的DataFrame用于存储合并后的数据\n",
    "merged_data = pd.DataFrame()\n",
    "\n",
    "# 遍历文件列表，逐个读取文件并合并数据\n",
    "for file in file_list:\n",
    "    data = pd.read_csv(file)\n",
    "    merged_data = pd.concat([merged_data, data])\n",
    "\n",
    "# 保存合并后的数据到新文件\n",
    "merged_data.to_csv('process_data/merged_data_0508_0515.csv', index=False)"
   ],
   "metadata": {
    "collapsed": false,
    "ExecuteTime": {
     "start_time": "2023-05-20T02:20:55.397972Z",
     "end_time": "2023-05-20T02:20:55.986956Z"
    }
   }
  },
  {
   "cell_type": "code",
   "execution_count": 17,
   "outputs": [
    {
     "data": {
      "text/plain": "                      Time  LastPrice  Volume  Bid1Price  Bid1Volume  \\\n0      2023-05-08 09:30:00     6117.0       7     6113.0           1   \n1      2023-05-08 09:30:00     6116.0       9     6115.6           2   \n2      2023-05-08 09:30:01     6114.2      13     6113.8           1   \n3      2023-05-08 09:30:01     6114.2      15     6115.4           1   \n4      2023-05-08 09:30:02     6117.4      25     6116.0           1   \n...                    ...        ...     ...        ...         ...   \n10899  2023-05-15 14:59:58     6083.4    9403     6083.4           1   \n10900  2023-05-15 15:00:00     6083.4    9403     6083.4           1   \n10901  2023-05-15 15:33:16     6083.4    9403     6083.4           1   \n10902  2023-05-15 15:37:49     6083.4    9403     6083.4           1   \n10903  2023-05-15 15:37:49     6083.4    9403     6083.4           1   \n\n       Ask1Price  Ask1Volume  FutureAvgPrice  Traded  \n0         6116.0           1         6115.44       0  \n1         6118.8           1         6115.54       0  \n2         6118.2           2         6115.82       1  \n3         6117.6           2         6115.70       1  \n4         6117.4           2         6115.26       0  \n...          ...         ...             ...     ...  \n10899     6084.2           1             NaN       0  \n10900     6084.2           1             NaN       0  \n10901     6084.2           1             NaN       0  \n10902     6084.2           1             NaN       0  \n10903     6084.2           1             NaN       0  \n\n[87203 rows x 9 columns]",
      "text/html": "<div>\n<style scoped>\n    .dataframe tbody tr th:only-of-type {\n        vertical-align: middle;\n    }\n\n    .dataframe tbody tr th {\n        vertical-align: top;\n    }\n\n    .dataframe thead th {\n        text-align: right;\n    }\n</style>\n<table border=\"1\" class=\"dataframe\">\n  <thead>\n    <tr style=\"text-align: right;\">\n      <th></th>\n      <th>Time</th>\n      <th>LastPrice</th>\n      <th>Volume</th>\n      <th>Bid1Price</th>\n      <th>Bid1Volume</th>\n      <th>Ask1Price</th>\n      <th>Ask1Volume</th>\n      <th>FutureAvgPrice</th>\n      <th>Traded</th>\n    </tr>\n  </thead>\n  <tbody>\n    <tr>\n      <th>0</th>\n      <td>2023-05-08 09:30:00</td>\n      <td>6117.0</td>\n      <td>7</td>\n      <td>6113.0</td>\n      <td>1</td>\n      <td>6116.0</td>\n      <td>1</td>\n      <td>6115.44</td>\n      <td>0</td>\n    </tr>\n    <tr>\n      <th>1</th>\n      <td>2023-05-08 09:30:00</td>\n      <td>6116.0</td>\n      <td>9</td>\n      <td>6115.6</td>\n      <td>2</td>\n      <td>6118.8</td>\n      <td>1</td>\n      <td>6115.54</td>\n      <td>0</td>\n    </tr>\n    <tr>\n      <th>2</th>\n      <td>2023-05-08 09:30:01</td>\n      <td>6114.2</td>\n      <td>13</td>\n      <td>6113.8</td>\n      <td>1</td>\n      <td>6118.2</td>\n      <td>2</td>\n      <td>6115.82</td>\n      <td>1</td>\n    </tr>\n    <tr>\n      <th>3</th>\n      <td>2023-05-08 09:30:01</td>\n      <td>6114.2</td>\n      <td>15</td>\n      <td>6115.4</td>\n      <td>1</td>\n      <td>6117.6</td>\n      <td>2</td>\n      <td>6115.70</td>\n      <td>1</td>\n    </tr>\n    <tr>\n      <th>4</th>\n      <td>2023-05-08 09:30:02</td>\n      <td>6117.4</td>\n      <td>25</td>\n      <td>6116.0</td>\n      <td>1</td>\n      <td>6117.4</td>\n      <td>2</td>\n      <td>6115.26</td>\n      <td>0</td>\n    </tr>\n    <tr>\n      <th>...</th>\n      <td>...</td>\n      <td>...</td>\n      <td>...</td>\n      <td>...</td>\n      <td>...</td>\n      <td>...</td>\n      <td>...</td>\n      <td>...</td>\n      <td>...</td>\n    </tr>\n    <tr>\n      <th>10899</th>\n      <td>2023-05-15 14:59:58</td>\n      <td>6083.4</td>\n      <td>9403</td>\n      <td>6083.4</td>\n      <td>1</td>\n      <td>6084.2</td>\n      <td>1</td>\n      <td>NaN</td>\n      <td>0</td>\n    </tr>\n    <tr>\n      <th>10900</th>\n      <td>2023-05-15 15:00:00</td>\n      <td>6083.4</td>\n      <td>9403</td>\n      <td>6083.4</td>\n      <td>1</td>\n      <td>6084.2</td>\n      <td>1</td>\n      <td>NaN</td>\n      <td>0</td>\n    </tr>\n    <tr>\n      <th>10901</th>\n      <td>2023-05-15 15:33:16</td>\n      <td>6083.4</td>\n      <td>9403</td>\n      <td>6083.4</td>\n      <td>1</td>\n      <td>6084.2</td>\n      <td>1</td>\n      <td>NaN</td>\n      <td>0</td>\n    </tr>\n    <tr>\n      <th>10902</th>\n      <td>2023-05-15 15:37:49</td>\n      <td>6083.4</td>\n      <td>9403</td>\n      <td>6083.4</td>\n      <td>1</td>\n      <td>6084.2</td>\n      <td>1</td>\n      <td>NaN</td>\n      <td>0</td>\n    </tr>\n    <tr>\n      <th>10903</th>\n      <td>2023-05-15 15:37:49</td>\n      <td>6083.4</td>\n      <td>9403</td>\n      <td>6083.4</td>\n      <td>1</td>\n      <td>6084.2</td>\n      <td>1</td>\n      <td>NaN</td>\n      <td>0</td>\n    </tr>\n  </tbody>\n</table>\n<p>87203 rows × 9 columns</p>\n</div>"
     },
     "execution_count": 17,
     "metadata": {},
     "output_type": "execute_result"
    }
   ],
   "source": [
    "merged_data"
   ],
   "metadata": {
    "collapsed": false,
    "ExecuteTime": {
     "start_time": "2023-05-20T02:20:55.987956Z",
     "end_time": "2023-05-20T02:20:55.999988Z"
    }
   }
  }
 ],
 "metadata": {
  "kernelspec": {
   "display_name": "Python 3",
   "language": "python",
   "name": "python3"
  },
  "language_info": {
   "codemirror_mode": {
    "name": "ipython",
    "version": 2
   },
   "file_extension": ".py",
   "mimetype": "text/x-python",
   "name": "python",
   "nbconvert_exporter": "python",
   "pygments_lexer": "ipython2",
   "version": "2.7.6"
  }
 },
 "nbformat": 4,
 "nbformat_minor": 0
}
